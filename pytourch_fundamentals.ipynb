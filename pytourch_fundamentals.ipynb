{
  "nbformat": 4,
  "nbformat_minor": 0,
  "metadata": {
    "colab": {
      "provenance": [],
      "authorship_tag": "ABX9TyPuKpHeZSnQp5V9vtPZHmQB",
      "include_colab_link": true
    },
    "kernelspec": {
      "name": "python3",
      "display_name": "Python 3"
    },
    "language_info": {
      "name": "python"
    }
  },
  "cells": [
    {
      "cell_type": "markdown",
      "metadata": {
        "id": "view-in-github",
        "colab_type": "text"
      },
      "source": [
        "<a href=\"https://colab.research.google.com/github/bilenyavuz/hello_pytorch/blob/main/pytourch_fundamentals.ipynb\" target=\"_parent\"><img src=\"https://colab.research.google.com/assets/colab-badge.svg\" alt=\"Open In Colab\"/></a>"
      ]
    },
    {
      "cell_type": "code",
      "execution_count": null,
      "metadata": {
        "colab": {
          "base_uri": "https://localhost:8080/"
        },
        "id": "ss6iRPTVEC0m",
        "outputId": "f2ddf4e9-ecf7-4254-c22d-16230fd93b25"
      },
      "outputs": [
        {
          "output_type": "stream",
          "name": "stdout",
          "text": [
            "2.4.0+cu121\n",
            "tensor(7)\n",
            "0\n",
            "7\n"
          ]
        }
      ],
      "source": [
        "# prompt: import pytourch and create a scalar tensor\n",
        "\n",
        "import torch\n",
        "print(torch.__version__)\n",
        "# Create a scalar tensor.\n",
        "scalar = torch.tensor(7)\n",
        "print(scalar)\n",
        "print(scalar.ndim)\n",
        "print(scalar.item())\n"
      ]
    },
    {
      "cell_type": "code",
      "source": [
        "# prompt: create a vector tensor\n",
        "\n",
        "# Create a vector tensor.\n",
        "vector = torch.tensor([7, 7])\n",
        "print(vector)\n",
        "print(vector.ndim)\n",
        "print(vector.shape)\n"
      ],
      "metadata": {
        "colab": {
          "base_uri": "https://localhost:8080/"
        },
        "id": "9pieYCWpE3wn",
        "outputId": "955a0b7e-90ee-4623-d038-e2b95a593865"
      },
      "execution_count": null,
      "outputs": [
        {
          "output_type": "stream",
          "name": "stdout",
          "text": [
            "tensor([7, 7])\n",
            "1\n",
            "torch.Size([2])\n"
          ]
        }
      ]
    },
    {
      "cell_type": "code",
      "source": [
        "# prompt: create a matrix tensor\n",
        "\n",
        "# Create a matrix tensor.\n",
        "matrix = torch.tensor([[7, 8],\n",
        "                       [9, 10]])\n",
        "print(matrix)\n",
        "print(matrix.ndim)\n",
        "print(matrix.shape)\n"
      ],
      "metadata": {
        "colab": {
          "base_uri": "https://localhost:8080/"
        },
        "id": "AjjOa7tZFBDg",
        "outputId": "db3ba738-89d4-4e31-9333-d41a0ca58731"
      },
      "execution_count": null,
      "outputs": [
        {
          "output_type": "stream",
          "name": "stdout",
          "text": [
            "tensor([[ 7,  8],\n",
            "        [ 9, 10]])\n",
            "2\n",
            "torch.Size([2, 2])\n"
          ]
        }
      ]
    },
    {
      "cell_type": "code",
      "source": [
        "# prompt: create a random tensor\n",
        "\n",
        "# Create a random tensor.\n",
        "random_tensor = torch.rand(3, 4)\n",
        "print(random_tensor)\n",
        "print(random_tensor.ndim)\n",
        "print(random_tensor.shape)\n"
      ],
      "metadata": {
        "colab": {
          "base_uri": "https://localhost:8080/"
        },
        "id": "DRTOBb7vFG0y",
        "outputId": "2b5d4a64-caf4-4db4-ba1b-d343774b6255"
      },
      "execution_count": null,
      "outputs": [
        {
          "output_type": "stream",
          "name": "stdout",
          "text": [
            "tensor([[0.6032, 0.1224, 0.3681, 0.6967],\n",
            "        [0.5557, 0.4702, 0.3322, 0.1136],\n",
            "        [0.0243, 0.0227, 0.0621, 0.4292]])\n",
            "2\n",
            "torch.Size([3, 4])\n"
          ]
        }
      ]
    }
  ]
}