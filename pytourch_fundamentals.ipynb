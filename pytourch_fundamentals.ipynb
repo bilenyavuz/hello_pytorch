{
  "nbformat": 4,
  "nbformat_minor": 0,
  "metadata": {
    "colab": {
      "provenance": [],
      "authorship_tag": "ABX9TyPH7pZxR2kFdNSA+QX092qp",
      "include_colab_link": true
    },
    "kernelspec": {
      "name": "python3",
      "display_name": "Python 3"
    },
    "language_info": {
      "name": "python"
    }
  },
  "cells": [
    {
      "cell_type": "markdown",
      "metadata": {
        "id": "view-in-github",
        "colab_type": "text"
      },
      "source": [
        "<a href=\"https://colab.research.google.com/github/bilenyavuz/hello_pytorch/blob/main/pytourch_fundamentals.ipynb\" target=\"_parent\"><img src=\"https://colab.research.google.com/assets/colab-badge.svg\" alt=\"Open In Colab\"/></a>"
      ]
    },
    {
      "cell_type": "code",
      "execution_count": null,
      "metadata": {
        "id": "ss6iRPTVEC0m"
      },
      "outputs": [],
      "source": [
        "# prompt: import pytourch and create a scalar tensor\n",
        "\n",
        "import torch\n",
        "print(torch.__version__)\n",
        "# Create a scalar tensor.\n",
        "scalar = torch.tensor(7)\n",
        "print(scalar)\n",
        "print(scalar.ndim)\n",
        "print(scalar.item())\n"
      ]
    },
    {
      "cell_type": "code",
      "source": [
        "# check gpu\n",
        "!nvidia-smi"
      ],
      "metadata": {
        "id": "P80HBE7-GAA-"
      },
      "execution_count": null,
      "outputs": []
    },
    {
      "cell_type": "code",
      "source": [
        "# prompt: create a vector tensor\n",
        "\n",
        "# Create a vector tensor.\n",
        "vector = torch.tensor([7, 7])\n",
        "print(vector)\n",
        "print(vector.ndim)\n",
        "print(vector.shape)\n"
      ],
      "metadata": {
        "id": "9pieYCWpE3wn"
      },
      "execution_count": null,
      "outputs": []
    },
    {
      "cell_type": "code",
      "source": [
        "# prompt: create a matrix tensor\n",
        "\n",
        "# Create a matrix tensor.\n",
        "matrix = torch.tensor([[7, 8],\n",
        "                       [9, 10]])\n",
        "print(matrix)\n",
        "print(matrix.ndim)\n",
        "print(matrix.shape)\n"
      ],
      "metadata": {
        "id": "AjjOa7tZFBDg"
      },
      "execution_count": null,
      "outputs": []
    },
    {
      "cell_type": "code",
      "source": [
        "# prompt: create a random tensor\n",
        "\n",
        "# Create a random tensor.\n",
        "random_tensor = torch.rand(size=(3, 4,5))\n",
        "print(random_tensor)\n",
        "print(random_tensor.ndim)\n",
        "print(random_tensor.shape)\n",
        "print(random_tensor.dtype)\n",
        "random_tensor[0]"
      ],
      "metadata": {
        "id": "DRTOBb7vFG0y"
      },
      "execution_count": null,
      "outputs": []
    },
    {
      "cell_type": "code",
      "source": [
        "# prompt: create a random tensor with zeros\n",
        "\n",
        "# Create a tensor of all zeros\n",
        "zeros = torch.zeros(size=(3, 4))\n",
        "print(zeros)\n",
        "print(zeros.dtype)\n"
      ],
      "metadata": {
        "id": "_XQRy4alGXvh"
      },
      "execution_count": null,
      "outputs": []
    },
    {
      "cell_type": "code",
      "source": [
        "# prompt: create a range tensor from zero to ten with data type float16\n",
        "\n",
        "# Create a range tensor.\n",
        "tensor = torch.arange(start=0, end=10, dtype=torch.float16)\n",
        "print(tensor)\n",
        "print(tensor.dtype)\n"
      ],
      "metadata": {
        "id": "c4xBMXdUHzyU"
      },
      "execution_count": null,
      "outputs": []
    },
    {
      "cell_type": "code",
      "source": [
        "# prompt: create a random tensor for an image with 512x512 size, print details of image tensor\n",
        "\n",
        "# Create a random tensor for an image with 512x512 size.\n",
        "image_tensor = torch.rand(size=(512, 512, 3))  # 3 channels for RGB\n",
        "print(image_tensor)\n",
        "print(image_tensor.ndim)\n",
        "print(image_tensor.shape)\n",
        "print(image_tensor.dtype)\n"
      ],
      "metadata": {
        "collapsed": true,
        "id": "uakZEplhIheF"
      },
      "execution_count": null,
      "outputs": []
    }
  ]
}