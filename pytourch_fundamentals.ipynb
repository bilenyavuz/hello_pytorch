{
  "nbformat": 4,
  "nbformat_minor": 0,
  "metadata": {
    "colab": {
      "provenance": [],
      "authorship_tag": "ABX9TyPH7pZxR2kFdNSA+QX092qp",
      "include_colab_link": true
    },
    "kernelspec": {
      "name": "python3",
      "display_name": "Python 3"
    },
    "language_info": {
      "name": "python"
    }
  },
  "cells": [
    {
      "cell_type": "markdown",
      "metadata": {
        "id": "view-in-github",
        "colab_type": "text"
      },
      "source": [
        "<a href=\"https://colab.research.google.com/github/bilenyavuz/hello_pytorch/blob/main/pytourch_fundamentals.ipynb\" target=\"_parent\"><img src=\"https://colab.research.google.com/assets/colab-badge.svg\" alt=\"Open In Colab\"/></a>"
      ]
    },
    {
      "cell_type": "code",
      "execution_count": 1,
      "metadata": {
        "colab": {
          "base_uri": "https://localhost:8080/"
        },
        "id": "ss6iRPTVEC0m",
        "outputId": "4c782a56-cfec-4f07-a6d7-3353dc82a57b"
      },
      "outputs": [
        {
          "output_type": "stream",
          "name": "stdout",
          "text": [
            "2.4.0+cu121\n",
            "tensor(7)\n",
            "0\n",
            "7\n"
          ]
        }
      ],
      "source": [
        "# prompt: import pytourch and create a scalar tensor\n",
        "\n",
        "import torch\n",
        "print(torch.__version__)\n",
        "# Create a scalar tensor.\n",
        "scalar = torch.tensor(7)\n",
        "print(scalar)\n",
        "print(scalar.ndim)\n",
        "print(scalar.item())\n"
      ]
    },
    {
      "cell_type": "code",
      "source": [
        "# check gpu\n",
        "!nvidia-smi"
      ],
      "metadata": {
        "colab": {
          "base_uri": "https://localhost:8080/"
        },
        "id": "P80HBE7-GAA-",
        "outputId": "c3df98d7-6a45-4edc-edfc-eff44a8f7ed1"
      },
      "execution_count": 2,
      "outputs": [
        {
          "output_type": "stream",
          "name": "stdout",
          "text": [
            "Tue Sep 10 18:01:08 2024       \n",
            "+---------------------------------------------------------------------------------------+\n",
            "| NVIDIA-SMI 535.104.05             Driver Version: 535.104.05   CUDA Version: 12.2     |\n",
            "|-----------------------------------------+----------------------+----------------------+\n",
            "| GPU  Name                 Persistence-M | Bus-Id        Disp.A | Volatile Uncorr. ECC |\n",
            "| Fan  Temp   Perf          Pwr:Usage/Cap |         Memory-Usage | GPU-Util  Compute M. |\n",
            "|                                         |                      |               MIG M. |\n",
            "|=========================================+======================+======================|\n",
            "|   0  Tesla T4                       Off | 00000000:00:04.0 Off |                    0 |\n",
            "| N/A   41C    P8              10W /  70W |      0MiB / 15360MiB |      0%      Default |\n",
            "|                                         |                      |                  N/A |\n",
            "+-----------------------------------------+----------------------+----------------------+\n",
            "                                                                                         \n",
            "+---------------------------------------------------------------------------------------+\n",
            "| Processes:                                                                            |\n",
            "|  GPU   GI   CI        PID   Type   Process name                            GPU Memory |\n",
            "|        ID   ID                                                             Usage      |\n",
            "|=======================================================================================|\n",
            "|  No running processes found                                                           |\n",
            "+---------------------------------------------------------------------------------------+\n"
          ]
        }
      ]
    },
    {
      "cell_type": "code",
      "source": [
        "# prompt: create a vector tensor\n",
        "\n",
        "# Create a vector tensor.\n",
        "vector = torch.tensor([7, 7])\n",
        "print(vector)\n",
        "print(vector.ndim)\n",
        "print(vector.shape)\n"
      ],
      "metadata": {
        "colab": {
          "base_uri": "https://localhost:8080/"
        },
        "id": "9pieYCWpE3wn",
        "outputId": "600211a4-fecc-4285-c2ec-d53b5014fa49"
      },
      "execution_count": 3,
      "outputs": [
        {
          "output_type": "stream",
          "name": "stdout",
          "text": [
            "tensor([7, 7])\n",
            "1\n",
            "torch.Size([2])\n"
          ]
        }
      ]
    },
    {
      "cell_type": "code",
      "source": [
        "# prompt: create a matrix tensor\n",
        "\n",
        "# Create a matrix tensor.\n",
        "matrix = torch.tensor([[7, 8],\n",
        "                       [9, 10]])\n",
        "print(matrix)\n",
        "print(matrix.ndim)\n",
        "print(matrix.shape)\n"
      ],
      "metadata": {
        "colab": {
          "base_uri": "https://localhost:8080/"
        },
        "id": "AjjOa7tZFBDg",
        "outputId": "86ecea4a-b56f-450d-99a0-8cac0cfa3505"
      },
      "execution_count": 4,
      "outputs": [
        {
          "output_type": "stream",
          "name": "stdout",
          "text": [
            "tensor([[ 7,  8],\n",
            "        [ 9, 10]])\n",
            "2\n",
            "torch.Size([2, 2])\n"
          ]
        }
      ]
    },
    {
      "cell_type": "code",
      "source": [
        "# prompt: create a random tensor\n",
        "\n",
        "# Create a random tensor.\n",
        "random_tensor = torch.rand(size=(3, 4,5))\n",
        "print(random_tensor)\n",
        "print(random_tensor.ndim)\n",
        "print(random_tensor.shape)\n",
        "print(random_tensor.dtype)\n",
        "random_tensor[0]"
      ],
      "metadata": {
        "colab": {
          "base_uri": "https://localhost:8080/"
        },
        "id": "DRTOBb7vFG0y",
        "outputId": "89d479bc-bc26-43c7-9ee4-2f9621e2b4e2"
      },
      "execution_count": 8,
      "outputs": [
        {
          "output_type": "stream",
          "name": "stdout",
          "text": [
            "tensor([[[0.3265, 0.4224, 0.7577, 0.5254, 0.7612],\n",
            "         [0.4139, 0.9001, 0.7667, 0.2361, 0.3375],\n",
            "         [0.4205, 0.7140, 0.0234, 0.7997, 0.2843],\n",
            "         [0.8309, 0.3662, 0.7734, 0.7558, 0.8443]],\n",
            "\n",
            "        [[0.0823, 0.3020, 0.5010, 0.3164, 0.3775],\n",
            "         [0.5746, 0.3739, 0.9517, 0.8857, 0.5742],\n",
            "         [0.2089, 0.5206, 0.8566, 0.7783, 0.0796],\n",
            "         [0.3556, 0.2406, 0.2272, 0.1156, 0.0529]],\n",
            "\n",
            "        [[0.9020, 0.2748, 0.6101, 0.9311, 0.9688],\n",
            "         [0.3015, 0.2287, 0.4496, 0.3556, 0.0370],\n",
            "         [0.2576, 0.9154, 0.4163, 0.9856, 0.1139],\n",
            "         [0.7797, 0.8814, 0.0142, 0.4668, 0.9785]]])\n",
            "3\n",
            "torch.Size([3, 4, 5])\n",
            "torch.float32\n"
          ]
        },
        {
          "output_type": "execute_result",
          "data": {
            "text/plain": [
              "tensor([[0.3265, 0.4224, 0.7577, 0.5254, 0.7612],\n",
              "        [0.4139, 0.9001, 0.7667, 0.2361, 0.3375],\n",
              "        [0.4205, 0.7140, 0.0234, 0.7997, 0.2843],\n",
              "        [0.8309, 0.3662, 0.7734, 0.7558, 0.8443]])"
            ]
          },
          "metadata": {},
          "execution_count": 8
        }
      ]
    },
    {
      "cell_type": "code",
      "source": [
        "# prompt: create a random tensor with zeros\n",
        "\n",
        "# Create a tensor of all zeros\n",
        "zeros = torch.zeros(size=(3, 4))\n",
        "print(zeros)\n",
        "print(zeros.dtype)\n"
      ],
      "metadata": {
        "colab": {
          "base_uri": "https://localhost:8080/"
        },
        "id": "_XQRy4alGXvh",
        "outputId": "35df6c3b-3b01-491b-df2b-f4ee8f7d81d3"
      },
      "execution_count": 7,
      "outputs": [
        {
          "output_type": "stream",
          "name": "stdout",
          "text": [
            "tensor([[0., 0., 0., 0.],\n",
            "        [0., 0., 0., 0.],\n",
            "        [0., 0., 0., 0.]])\n",
            "torch.float32\n"
          ]
        }
      ]
    },
    {
      "cell_type": "code",
      "source": [
        "# prompt: create a range tensor from zero to ten with data type float16\n",
        "\n",
        "# Create a range tensor.\n",
        "tensor = torch.arange(start=0, end=10, dtype=torch.float16)\n",
        "print(tensor)\n",
        "print(tensor.dtype)\n"
      ],
      "metadata": {
        "colab": {
          "base_uri": "https://localhost:8080/"
        },
        "id": "c4xBMXdUHzyU",
        "outputId": "bf2800b7-8c7d-458f-bd05-c5dab72a224c"
      },
      "execution_count": 10,
      "outputs": [
        {
          "output_type": "stream",
          "name": "stdout",
          "text": [
            "tensor([0., 1., 2., 3., 4., 5., 6., 7., 8., 9.], dtype=torch.float16)\n",
            "torch.float16\n"
          ]
        }
      ]
    },
    {
      "cell_type": "code",
      "source": [
        "# prompt: create a random tensor for an image with 512x512 size, print details of image tensor\n",
        "\n",
        "# Create a random tensor for an image with 512x512 size.\n",
        "image_tensor = torch.rand(size=(512, 512, 3))  # 3 channels for RGB\n",
        "print(image_tensor)\n",
        "print(image_tensor.ndim)\n",
        "print(image_tensor.shape)\n",
        "print(image_tensor.dtype)\n"
      ],
      "metadata": {
        "colab": {
          "base_uri": "https://localhost:8080/"
        },
        "collapsed": true,
        "id": "uakZEplhIheF",
        "outputId": "d810e758-819e-4c11-f353-c131070d3e8b"
      },
      "execution_count": 13,
      "outputs": [
        {
          "output_type": "stream",
          "name": "stdout",
          "text": [
            "tensor([[[0.7059, 0.8815, 0.1464],\n",
            "         [0.1403, 0.5003, 0.6423],\n",
            "         [0.1608, 0.6500, 0.7484],\n",
            "         ...,\n",
            "         [0.7840, 0.9710, 0.3940],\n",
            "         [0.1244, 0.0427, 0.5370],\n",
            "         [0.0865, 0.7012, 0.6185]],\n",
            "\n",
            "        [[0.6402, 0.5654, 0.7690],\n",
            "         [0.6621, 0.3111, 0.9558],\n",
            "         [0.2733, 0.7357, 0.3050],\n",
            "         ...,\n",
            "         [0.7205, 0.1300, 0.7103],\n",
            "         [0.7400, 0.3764, 0.3872],\n",
            "         [0.8951, 0.1101, 0.8302]],\n",
            "\n",
            "        [[0.6328, 0.0793, 0.1930],\n",
            "         [0.2202, 0.3472, 0.7540],\n",
            "         [0.5396, 0.4189, 0.0791],\n",
            "         ...,\n",
            "         [0.0134, 0.6301, 0.8722],\n",
            "         [0.9876, 0.0051, 0.6613],\n",
            "         [0.9011, 0.3734, 0.4785]],\n",
            "\n",
            "        ...,\n",
            "\n",
            "        [[0.3112, 0.8531, 0.4414],\n",
            "         [0.4092, 0.8075, 0.9110],\n",
            "         [0.5711, 0.5953, 0.7324],\n",
            "         ...,\n",
            "         [0.4370, 0.1738, 0.1547],\n",
            "         [0.2329, 0.6599, 0.6866],\n",
            "         [0.6130, 0.2094, 0.5038]],\n",
            "\n",
            "        [[0.8289, 0.7980, 0.7830],\n",
            "         [0.0436, 0.6861, 0.3911],\n",
            "         [0.1911, 0.1472, 0.6307],\n",
            "         ...,\n",
            "         [0.1800, 0.0614, 0.7266],\n",
            "         [0.1528, 0.4633, 0.0199],\n",
            "         [0.6254, 0.9972, 0.4239]],\n",
            "\n",
            "        [[0.1087, 0.4179, 0.3698],\n",
            "         [0.5064, 0.8806, 0.4527],\n",
            "         [0.1251, 0.2698, 0.5400],\n",
            "         ...,\n",
            "         [0.0141, 0.4588, 0.4154],\n",
            "         [0.1912, 0.8323, 0.8919],\n",
            "         [0.9918, 0.0925, 0.4636]]])\n",
            "3\n",
            "torch.Size([512, 512, 3])\n",
            "torch.float32\n"
          ]
        }
      ]
    }
  ]
}